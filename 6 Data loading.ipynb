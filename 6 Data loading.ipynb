{
 "cells": [
  {
   "cell_type": "markdown",
   "id": "805000de-5aed-4414-ae75-af9bbeca3fc5",
   "metadata": {},
   "source": [
    "# Interacting with web apis"
   ]
  },
  {
   "cell_type": "code",
   "execution_count": 2,
   "id": "6af936df-b595-4496-af46-49be4542fdda",
   "metadata": {},
   "outputs": [],
   "source": [
    "import requests"
   ]
  },
  {
   "cell_type": "code",
   "execution_count": 3,
   "id": "69a3af7d-f1c5-43ae-a71e-0f08bca3644a",
   "metadata": {},
   "outputs": [],
   "source": [
    "url = \"https://api.github.com/repos/pandas-dev/pandas/issues\""
   ]
  },
  {
   "cell_type": "code",
   "execution_count": 4,
   "id": "29649937-5540-469a-8b2a-2bf2191a3cbd",
   "metadata": {},
   "outputs": [
    {
     "data": {
      "text/plain": [
       "<Response [200]>"
      ]
     },
     "execution_count": 4,
     "metadata": {},
     "output_type": "execute_result"
    }
   ],
   "source": [
    "resp = requests.get(url)\n",
    "resp.raise_for_status()\n",
    "resp"
   ]
  },
  {
   "cell_type": "code",
   "execution_count": 5,
   "id": "01b7f571-aba0-4dd4-a9b9-97279907d58d",
   "metadata": {},
   "outputs": [
    {
     "data": {
      "text/plain": [
       "{'url': 'https://api.github.com/repos/pandas-dev/pandas/issues/57972',\n",
       " 'repository_url': 'https://api.github.com/repos/pandas-dev/pandas',\n",
       " 'labels_url': 'https://api.github.com/repos/pandas-dev/pandas/issues/57972/labels{/name}',\n",
       " 'comments_url': 'https://api.github.com/repos/pandas-dev/pandas/issues/57972/comments',\n",
       " 'events_url': 'https://api.github.com/repos/pandas-dev/pandas/issues/57972/events',\n",
       " 'html_url': 'https://github.com/pandas-dev/pandas/issues/57972',\n",
       " 'id': 2203787041,\n",
       " 'node_id': 'I_kwDOAA0YD86DWx8h',\n",
       " 'number': 57972,\n",
       " 'title': 'BUG: Wrong kurtosis outcome due to inadequate fix to previous issues',\n",
       " 'user': {'login': 'j7168908jx',\n",
       "  'id': 29114306,\n",
       "  'node_id': 'MDQ6VXNlcjI5MTE0MzA2',\n",
       "  'avatar_url': 'https://avatars.githubusercontent.com/u/29114306?v=4',\n",
       "  'gravatar_id': '',\n",
       "  'url': 'https://api.github.com/users/j7168908jx',\n",
       "  'html_url': 'https://github.com/j7168908jx',\n",
       "  'followers_url': 'https://api.github.com/users/j7168908jx/followers',\n",
       "  'following_url': 'https://api.github.com/users/j7168908jx/following{/other_user}',\n",
       "  'gists_url': 'https://api.github.com/users/j7168908jx/gists{/gist_id}',\n",
       "  'starred_url': 'https://api.github.com/users/j7168908jx/starred{/owner}{/repo}',\n",
       "  'subscriptions_url': 'https://api.github.com/users/j7168908jx/subscriptions',\n",
       "  'organizations_url': 'https://api.github.com/users/j7168908jx/orgs',\n",
       "  'repos_url': 'https://api.github.com/users/j7168908jx/repos',\n",
       "  'events_url': 'https://api.github.com/users/j7168908jx/events{/privacy}',\n",
       "  'received_events_url': 'https://api.github.com/users/j7168908jx/received_events',\n",
       "  'type': 'User',\n",
       "  'site_admin': False},\n",
       " 'labels': [{'id': 76811,\n",
       "   'node_id': 'MDU6TGFiZWw3NjgxMQ==',\n",
       "   'url': 'https://api.github.com/repos/pandas-dev/pandas/labels/Bug',\n",
       "   'name': 'Bug',\n",
       "   'color': 'e10c02',\n",
       "   'default': False,\n",
       "   'description': None},\n",
       "  {'id': 1954720290,\n",
       "   'node_id': 'MDU6TGFiZWwxOTU0NzIwMjkw',\n",
       "   'url': 'https://api.github.com/repos/pandas-dev/pandas/labels/Needs%20Triage',\n",
       "   'name': 'Needs Triage',\n",
       "   'color': '0052cc',\n",
       "   'default': False,\n",
       "   'description': 'Issue that has not been reviewed by a pandas team member'}],\n",
       " 'state': 'open',\n",
       " 'locked': False,\n",
       " 'assignee': None,\n",
       " 'assignees': [],\n",
       " 'milestone': None,\n",
       " 'comments': 0,\n",
       " 'created_at': '2024-03-23T09:16:28Z',\n",
       " 'updated_at': '2024-03-23T09:16:28Z',\n",
       " 'closed_at': None,\n",
       " 'author_association': 'NONE',\n",
       " 'active_lock_reason': None,\n",
       " 'body': \"### Pandas version checks\\n\\n- [X] I have checked that this issue has not already been reported.\\n\\n- [X] I have confirmed this bug exists on the [latest version](https://pandas.pydata.org/docs/whatsnew/index.html) of pandas.\\n\\n- [X] I have confirmed this bug exists on the [main branch](https://pandas.pydata.org/docs/dev/getting_started/install.html#installing-the-development-version-of-pandas) of pandas.\\n\\n\\n### Reproducible Example\\n\\n```python\\nimport polars as pl\\r\\nimport pandas as pd\\r\\nimport numpy as np\\r\\nimport scipy.stats as st\\r\\n\\r\\ndata = np.array([-2.05191341e-05,  0.00000000e+00,  0.00000000e+00,  0.00000000e+00,\\r\\n        0.00000000e+00, -4.10391103e-05,  0.00000000e+00,  0.00000000e+00,\\r\\n        0.00000000e+00,  0.00000000e+00,  0.00000000e+00,  0.00000000e+00,\\r\\n        0.00000000e+00,  0.00000000e+00,  0.00000000e+00,  0.00000000e+00,\\r\\n        0.00000000e+00,  0.00000000e+00,  0.00000000e+00,  0.00000000e+00,\\r\\n        0.00000000e+00,  0.00000000e+00,  0.00000000e+00,  0.00000000e+00,\\r\\n        0.00000000e+00,  0.00000000e+00,  0.00000000e+00,  0.00000000e+00,\\r\\n        0.00000000e+00])\\r\\n\\r\\nprint(pl.Series(data).kurtosis())\\r\\nprint(pd.Series(data).kurt())\\r\\nprint(st.kurtosis(data))\\n```\\n\\n\\n### Issue Description\\n\\nThe output of `pandas` kurtosis function is incorrect. \\r\\n\\r\\nAfter simple debugging I found a comment at `core/nanops.py` line 1360, in function `nankurt`,\\r\\nsaying to fix #18044 it manually zeros out values less than 1e-14, which is in any way improper.\\r\\nThis affects whatever data comes with not much variance but lots of data.\\r\\n\\r\\n\\n\\n### Expected Behavior\\n\\nOutput of provided example:\\r\\n```text\\r\\n14.916104870028523\\r\\n0.0\\r\\n14.916104870028551\\r\\n```\\r\\n\\r\\nExpected output: roughly 14.9161 for unbiased (`pandas`'s default behaviour) is correct.\\r\\n\\n\\n### Installed Versions\\n\\n<details>\\r\\n\\r\\n\\r\\nINSTALLED VERSIONS\\r\\n------------------\\r\\ncommit                : bdc79c146c2e32f2cab629be240f01658cfb6cc2\\r\\npython                : 3.10.13.final.0\\r\\npython-bits           : 64\\r\\nOS                    : Linux\\r\\nOS-release            : 5.19.0-1010-nvidia-lowlatency\\r\\nVersion               : #10-Ubuntu SMP PREEMPT_DYNAMIC Wed Apr 26 00:40:27 UTC 2023\\r\\nmachine               : x86_64\\r\\nprocessor             : x86_64\\r\\nbyteorder             : little\\r\\nLC_ALL                : None\\r\\nLANG                  : en_US.UTF-8\\r\\nLOCALE                : en_US.UTF-8\\r\\n\\r\\npandas                : 2.2.1\\r\\nnumpy                 : 1.26.4\\r\\npytz                  : 2024.1\\r\\ndateutil              : 2.8.2\\r\\nsetuptools            : 65.5.0\\r\\npip                   : 24.0\\r\\nCython                : None\\r\\npytest                : None\\r\\nhypothesis            : None\\r\\nsphinx                : None\\r\\nblosc                 : None\\r\\nfeather               : None\\r\\nxlsxwriter            : None\\r\\nlxml.etree            : None\\r\\nhtml5lib              : None\\r\\npymysql               : None\\r\\npsycopg2              : None\\r\\njinja2                : None\\r\\nIPython               : 8.22.1\\r\\npandas_datareader     : None\\r\\nadbc-driver-postgresql: None\\r\\nadbc-driver-sqlite    : None\\r\\nbs4                   : None\\r\\nbottleneck            : None\\r\\ndataframe-api-compat  : None\\r\\nfastparquet           : None\\r\\nfsspec                : 2024.2.0\\r\\ngcsfs                 : None\\r\\nmatplotlib            : 3.8.3\\r\\nnumba                 : 0.59.0\\r\\nnumexpr               : None\\r\\nodfpy                 : None\\r\\nopenpyxl              : None\\r\\npandas_gbq            : None\\r\\npyarrow               : 15.0.0\\r\\npyreadstat            : None\\r\\npython-calamine       : None\\r\\npyxlsb                : None\\r\\ns3fs                  : None\\r\\nscipy                 : 1.12.0\\r\\nsqlalchemy            : None\\r\\ntables                : None\\r\\ntabulate              : None\\r\\nxarray                : None\\r\\nxlrd                  : None\\r\\nzstandard             : None\\r\\ntzdata                : 2024.1\\r\\nqtpy                  : None\\r\\npyqt5                 : None\\r\\n\\r\\n</details>\\r\\n\",\n",
       " 'reactions': {'url': 'https://api.github.com/repos/pandas-dev/pandas/issues/57972/reactions',\n",
       "  'total_count': 0,\n",
       "  '+1': 0,\n",
       "  '-1': 0,\n",
       "  'laugh': 0,\n",
       "  'hooray': 0,\n",
       "  'confused': 0,\n",
       "  'heart': 0,\n",
       "  'rocket': 0,\n",
       "  'eyes': 0},\n",
       " 'timeline_url': 'https://api.github.com/repos/pandas-dev/pandas/issues/57972/timeline',\n",
       " 'performed_via_github_app': None,\n",
       " 'state_reason': None}"
      ]
     },
     "execution_count": 5,
     "metadata": {},
     "output_type": "execute_result"
    }
   ],
   "source": [
    "data = resp.json()\n",
    "data[0]"
   ]
  },
  {
   "cell_type": "code",
   "execution_count": 7,
   "id": "8d0d1a22-6c65-459d-b5ad-6b26658ed284",
   "metadata": {},
   "outputs": [],
   "source": [
    "import pandas as pd"
   ]
  },
  {
   "cell_type": "code",
   "execution_count": 8,
   "id": "467af0a6-ba18-4548-8354-ab2e00c78f27",
   "metadata": {},
   "outputs": [
    {
     "data": {
      "text/html": [
       "<div>\n",
       "<style scoped>\n",
       "    .dataframe tbody tr th:only-of-type {\n",
       "        vertical-align: middle;\n",
       "    }\n",
       "\n",
       "    .dataframe tbody tr th {\n",
       "        vertical-align: top;\n",
       "    }\n",
       "\n",
       "    .dataframe thead th {\n",
       "        text-align: right;\n",
       "    }\n",
       "</style>\n",
       "<table border=\"1\" class=\"dataframe\">\n",
       "  <thead>\n",
       "    <tr style=\"text-align: right;\">\n",
       "      <th></th>\n",
       "      <th>number</th>\n",
       "      <th>title</th>\n",
       "      <th>labels</th>\n",
       "      <th>state</th>\n",
       "    </tr>\n",
       "  </thead>\n",
       "  <tbody>\n",
       "    <tr>\n",
       "      <th>0</th>\n",
       "      <td>57972</td>\n",
       "      <td>BUG: Wrong kurtosis outcome due to inadequate ...</td>\n",
       "      <td>[{'id': 76811, 'node_id': 'MDU6TGFiZWw3NjgxMQ=...</td>\n",
       "      <td>open</td>\n",
       "    </tr>\n",
       "    <tr>\n",
       "      <th>1</th>\n",
       "      <td>57971</td>\n",
       "      <td>CLN: Enforce deprecation of argmin/max and idx...</td>\n",
       "      <td>[{'id': 2822342, 'node_id': 'MDU6TGFiZWwyODIyM...</td>\n",
       "      <td>open</td>\n",
       "    </tr>\n",
       "    <tr>\n",
       "      <th>2</th>\n",
       "      <td>57970</td>\n",
       "      <td>Implement hash_join for merges</td>\n",
       "      <td>[]</td>\n",
       "      <td>open</td>\n",
       "    </tr>\n",
       "    <tr>\n",
       "      <th>3</th>\n",
       "      <td>57969</td>\n",
       "      <td>WEB: Updating active/inactive core devs</td>\n",
       "      <td>[{'id': 32933285, 'node_id': 'MDU6TGFiZWwzMjkz...</td>\n",
       "      <td>open</td>\n",
       "    </tr>\n",
       "    <tr>\n",
       "      <th>4</th>\n",
       "      <td>57968</td>\n",
       "      <td>BUG: #57954 encoding ignored for filelike</td>\n",
       "      <td>[]</td>\n",
       "      <td>open</td>\n",
       "    </tr>\n",
       "  </tbody>\n",
       "</table>\n",
       "</div>"
      ],
      "text/plain": [
       "   number                                              title  \\\n",
       "0   57972  BUG: Wrong kurtosis outcome due to inadequate ...   \n",
       "1   57971  CLN: Enforce deprecation of argmin/max and idx...   \n",
       "2   57970                     Implement hash_join for merges   \n",
       "3   57969            WEB: Updating active/inactive core devs   \n",
       "4   57968          BUG: #57954 encoding ignored for filelike   \n",
       "\n",
       "                                              labels state  \n",
       "0  [{'id': 76811, 'node_id': 'MDU6TGFiZWw3NjgxMQ=...  open  \n",
       "1  [{'id': 2822342, 'node_id': 'MDU6TGFiZWwyODIyM...  open  \n",
       "2                                                 []  open  \n",
       "3  [{'id': 32933285, 'node_id': 'MDU6TGFiZWwzMjkz...  open  \n",
       "4                                                 []  open  "
      ]
     },
     "execution_count": 8,
     "metadata": {},
     "output_type": "execute_result"
    }
   ],
   "source": [
    "issues = pd.DataFrame(data,columns=['number','title','labels','state'])\n",
    "issues.head()"
   ]
  },
  {
   "cell_type": "code",
   "execution_count": 9,
   "id": "592bbe3a-e553-4bae-8e21-f451a4c457f7",
   "metadata": {},
   "outputs": [
    {
     "data": {
      "text/plain": [
       "0    [{'id': 76811, 'node_id': 'MDU6TGFiZWw3NjgxMQ=...\n",
       "1    [{'id': 2822342, 'node_id': 'MDU6TGFiZWwyODIyM...\n",
       "2                                                   []\n",
       "3    [{'id': 32933285, 'node_id': 'MDU6TGFiZWwzMjkz...\n",
       "4                                                   []\n",
       "Name: labels, dtype: object"
      ]
     },
     "execution_count": 9,
     "metadata": {},
     "output_type": "execute_result"
    }
   ],
   "source": [
    "issues['labels'].head()"
   ]
  },
  {
   "cell_type": "code",
   "execution_count": 10,
   "id": "613996db-0b56-48a3-b6fe-3104a06a2a94",
   "metadata": {},
   "outputs": [
    {
     "data": {
      "text/plain": [
       "<Response [200]>"
      ]
     },
     "execution_count": 10,
     "metadata": {},
     "output_type": "execute_result"
    }
   ],
   "source": [
    "url2 = \"https://jsonplaceholder.typicode.com/todos\"\n",
    "\n",
    "resp2 =requests.get(url2)\n",
    "\n",
    "resp2.raise_for_status()\n",
    "resp2"
   ]
  },
  {
   "cell_type": "code",
   "execution_count": 11,
   "id": "186e2b4f-2e22-40b0-beb1-e47c492d216f",
   "metadata": {},
   "outputs": [],
   "source": [
    "data2 = resp2.json()"
   ]
  },
  {
   "cell_type": "code",
   "execution_count": 12,
   "id": "5bfbff82-c293-4381-a681-c129b6d5f726",
   "metadata": {},
   "outputs": [
    {
     "data": {
      "text/plain": [
       "{'userId': 1, 'id': 1, 'title': 'delectus aut autem', 'completed': False}"
      ]
     },
     "execution_count": 12,
     "metadata": {},
     "output_type": "execute_result"
    }
   ],
   "source": [
    "data2[0]"
   ]
  },
  {
   "cell_type": "code",
   "execution_count": 25,
   "id": "881fdf61-11b5-4872-83a1-7b32666fbe95",
   "metadata": {},
   "outputs": [
    {
     "data": {
      "text/html": [
       "<div>\n",
       "<style scoped>\n",
       "    .dataframe tbody tr th:only-of-type {\n",
       "        vertical-align: middle;\n",
       "    }\n",
       "\n",
       "    .dataframe tbody tr th {\n",
       "        vertical-align: top;\n",
       "    }\n",
       "\n",
       "    .dataframe thead th {\n",
       "        text-align: right;\n",
       "    }\n",
       "</style>\n",
       "<table border=\"1\" class=\"dataframe\">\n",
       "  <thead>\n",
       "    <tr style=\"text-align: right;\">\n",
       "      <th></th>\n",
       "      <th>userId</th>\n",
       "      <th>title</th>\n",
       "      <th>completed</th>\n",
       "    </tr>\n",
       "    <tr>\n",
       "      <th>id</th>\n",
       "      <th></th>\n",
       "      <th></th>\n",
       "      <th></th>\n",
       "    </tr>\n",
       "  </thead>\n",
       "  <tbody>\n",
       "    <tr>\n",
       "      <th>1</th>\n",
       "      <td>1</td>\n",
       "      <td>delectus aut autem</td>\n",
       "      <td>False</td>\n",
       "    </tr>\n",
       "    <tr>\n",
       "      <th>2</th>\n",
       "      <td>1</td>\n",
       "      <td>quis ut nam facilis et officia qui</td>\n",
       "      <td>False</td>\n",
       "    </tr>\n",
       "    <tr>\n",
       "      <th>3</th>\n",
       "      <td>1</td>\n",
       "      <td>fugiat veniam minus</td>\n",
       "      <td>False</td>\n",
       "    </tr>\n",
       "    <tr>\n",
       "      <th>4</th>\n",
       "      <td>1</td>\n",
       "      <td>et porro tempora</td>\n",
       "      <td>True</td>\n",
       "    </tr>\n",
       "    <tr>\n",
       "      <th>5</th>\n",
       "      <td>1</td>\n",
       "      <td>laboriosam mollitia et enim quasi adipisci qui...</td>\n",
       "      <td>False</td>\n",
       "    </tr>\n",
       "  </tbody>\n",
       "</table>\n",
       "</div>"
      ],
      "text/plain": [
       "    userId                                              title  completed\n",
       "id                                                                      \n",
       "1        1                                 delectus aut autem      False\n",
       "2        1                 quis ut nam facilis et officia qui      False\n",
       "3        1                                fugiat veniam minus      False\n",
       "4        1                                   et porro tempora       True\n",
       "5        1  laboriosam mollitia et enim quasi adipisci qui...      False"
      ]
     },
     "execution_count": 25,
     "metadata": {},
     "output_type": "execute_result"
    }
   ],
   "source": [
    "df_placeholder = pd.DataFrame(data2).set_index('id')\n",
    "df_placeholder.head()"
   ]
  },
  {
   "cell_type": "code",
   "execution_count": 26,
   "id": "9743edaa-fad7-4321-a49a-2677c9a60c8a",
   "metadata": {},
   "outputs": [
    {
     "name": "stdout",
     "output_type": "stream",
     "text": [
      "200\n"
     ]
    }
   ],
   "source": [
    "response = requests.get(\"http://api.open-notify.org/astros\")\n",
    "print(response.status_code)"
   ]
  },
  {
   "cell_type": "code",
   "execution_count": 31,
   "id": "eb7bf26b-39dd-4e54-afdd-2378a35a6e7f",
   "metadata": {},
   "outputs": [
    {
     "name": "stdout",
     "output_type": "stream",
     "text": [
      "{'name': 'Jasmin Moghbeli', 'craft': 'ISS'}\n"
     ]
    }
   ],
   "source": [
    "data3 = response.json()\n",
    "print(data3['people'][0])"
   ]
  },
  {
   "cell_type": "code",
   "execution_count": 30,
   "id": "3b9b6a05-208d-4e4d-b3ec-226f2b8eba3d",
   "metadata": {},
   "outputs": [
    {
     "data": {
      "text/html": [
       "<div>\n",
       "<style scoped>\n",
       "    .dataframe tbody tr th:only-of-type {\n",
       "        vertical-align: middle;\n",
       "    }\n",
       "\n",
       "    .dataframe tbody tr th {\n",
       "        vertical-align: top;\n",
       "    }\n",
       "\n",
       "    .dataframe thead th {\n",
       "        text-align: right;\n",
       "    }\n",
       "</style>\n",
       "<table border=\"1\" class=\"dataframe\">\n",
       "  <thead>\n",
       "    <tr style=\"text-align: right;\">\n",
       "      <th></th>\n",
       "      <th>name</th>\n",
       "      <th>craft</th>\n",
       "    </tr>\n",
       "  </thead>\n",
       "  <tbody>\n",
       "    <tr>\n",
       "      <th>0</th>\n",
       "      <td>Jasmin Moghbeli</td>\n",
       "      <td>ISS</td>\n",
       "    </tr>\n",
       "    <tr>\n",
       "      <th>1</th>\n",
       "      <td>Andreas Mogensen</td>\n",
       "      <td>ISS</td>\n",
       "    </tr>\n",
       "    <tr>\n",
       "      <th>2</th>\n",
       "      <td>Satoshi Furukawa</td>\n",
       "      <td>ISS</td>\n",
       "    </tr>\n",
       "    <tr>\n",
       "      <th>3</th>\n",
       "      <td>Konstantin Borisov</td>\n",
       "      <td>ISS</td>\n",
       "    </tr>\n",
       "    <tr>\n",
       "      <th>4</th>\n",
       "      <td>Oleg Kononenko</td>\n",
       "      <td>ISS</td>\n",
       "    </tr>\n",
       "  </tbody>\n",
       "</table>\n",
       "</div>"
      ],
      "text/plain": [
       "                 name craft\n",
       "0     Jasmin Moghbeli   ISS\n",
       "1    Andreas Mogensen   ISS\n",
       "2    Satoshi Furukawa   ISS\n",
       "3  Konstantin Borisov   ISS\n",
       "4      Oleg Kononenko   ISS"
      ]
     },
     "execution_count": 30,
     "metadata": {},
     "output_type": "execute_result"
    }
   ],
   "source": [
    "df =pd.DataFrame(data3['people'])\n",
    "df.head()"
   ]
  },
  {
   "cell_type": "code",
   "execution_count": 34,
   "id": "55dfc4ef-145e-491c-8837-44f1d921547a",
   "metadata": {},
   "outputs": [
    {
     "name": "stdout",
     "output_type": "stream",
     "text": [
      "200\n"
     ]
    }
   ],
   "source": [
    "response_eco = requests.get('http://api.worldbank.org/v2/country/all/indicator/SP.POP.TOTL?format=json')\n",
    "print(response_eco.status_code)"
   ]
  },
  {
   "cell_type": "code",
   "execution_count": 44,
   "id": "eb04e90d-6170-4130-91fb-ad198ffa3497",
   "metadata": {},
   "outputs": [
    {
     "name": "stdout",
     "output_type": "stream",
     "text": [
      "[{'indicator': {'id': 'SP.POP.TOTL', 'value': 'Population, total'}, 'country': {'id': 'ZH', 'value': 'Africa Eastern and Southern'}, 'countryiso3code': 'AFE', 'date': '2022', 'value': 720859132, 'unit': '', 'obs_status': '', 'decimal': 0}, {'indicator': {'id': 'SP.POP.TOTL', 'value': 'Population, total'}, 'country': {'id': 'ZH', 'value': 'Africa Eastern and Southern'}, 'countryiso3code': 'AFE', 'date': '2021', 'value': 702977106, 'unit': '', 'obs_status': '', 'decimal': 0}, {'indicator': {'id': 'SP.POP.TOTL', 'value': 'Population, total'}, 'country': {'id': 'ZH', 'value': 'Africa Eastern and Southern'}, 'countryiso3code': 'AFE', 'date': '2020', 'value': 685112979, 'unit': '', 'obs_status': '', 'decimal': 0}, {'indicator': {'id': 'SP.POP.TOTL', 'value': 'Population, total'}, 'country': {'id': 'ZH', 'value': 'Africa Eastern and Southern'}, 'countryiso3code': 'AFE', 'date': '2019', 'value': 667242986, 'unit': '', 'obs_status': '', 'decimal': 0}, {'indicator': {'id': 'SP.POP.TOTL', 'value': 'Population, total'}, 'country': {'id': 'ZH', 'value': 'Africa Eastern and Southern'}, 'countryiso3code': 'AFE', 'date': '2018', 'value': 649757148, 'unit': '', 'obs_status': '', 'decimal': 0}, {'indicator': {'id': 'SP.POP.TOTL', 'value': 'Population, total'}, 'country': {'id': 'ZH', 'value': 'Africa Eastern and Southern'}, 'countryiso3code': 'AFE', 'date': '2017', 'value': 632746570, 'unit': '', 'obs_status': '', 'decimal': 0}, {'indicator': {'id': 'SP.POP.TOTL', 'value': 'Population, total'}, 'country': {'id': 'ZH', 'value': 'Africa Eastern and Southern'}, 'countryiso3code': 'AFE', 'date': '2016', 'value': 616377605, 'unit': '', 'obs_status': '', 'decimal': 0}, {'indicator': {'id': 'SP.POP.TOTL', 'value': 'Population, total'}, 'country': {'id': 'ZH', 'value': 'Africa Eastern and Southern'}, 'countryiso3code': 'AFE', 'date': '2015', 'value': 600008424, 'unit': '', 'obs_status': '', 'decimal': 0}, {'indicator': {'id': 'SP.POP.TOTL', 'value': 'Population, total'}, 'country': {'id': 'ZH', 'value': 'Africa Eastern and Southern'}, 'countryiso3code': 'AFE', 'date': '2014', 'value': 583651101, 'unit': '', 'obs_status': '', 'decimal': 0}, {'indicator': {'id': 'SP.POP.TOTL', 'value': 'Population, total'}, 'country': {'id': 'ZH', 'value': 'Africa Eastern and Southern'}, 'countryiso3code': 'AFE', 'date': '2013', 'value': 567892149, 'unit': '', 'obs_status': '', 'decimal': 0}, {'indicator': {'id': 'SP.POP.TOTL', 'value': 'Population, total'}, 'country': {'id': 'ZH', 'value': 'Africa Eastern and Southern'}, 'countryiso3code': 'AFE', 'date': '2012', 'value': 552530654, 'unit': '', 'obs_status': '', 'decimal': 0}, {'indicator': {'id': 'SP.POP.TOTL', 'value': 'Population, total'}, 'country': {'id': 'ZH', 'value': 'Africa Eastern and Southern'}, 'countryiso3code': 'AFE', 'date': '2011', 'value': 537792950, 'unit': '', 'obs_status': '', 'decimal': 0}, {'indicator': {'id': 'SP.POP.TOTL', 'value': 'Population, total'}, 'country': {'id': 'ZH', 'value': 'Africa Eastern and Southern'}, 'countryiso3code': 'AFE', 'date': '2010', 'value': 523459657, 'unit': '', 'obs_status': '', 'decimal': 0}, {'indicator': {'id': 'SP.POP.TOTL', 'value': 'Population, total'}, 'country': {'id': 'ZH', 'value': 'Africa Eastern and Southern'}, 'countryiso3code': 'AFE', 'date': '2009', 'value': 509410477, 'unit': '', 'obs_status': '', 'decimal': 0}, {'indicator': {'id': 'SP.POP.TOTL', 'value': 'Population, total'}, 'country': {'id': 'ZH', 'value': 'Africa Eastern and Southern'}, 'countryiso3code': 'AFE', 'date': '2008', 'value': 495748900, 'unit': '', 'obs_status': '', 'decimal': 0}, {'indicator': {'id': 'SP.POP.TOTL', 'value': 'Population, total'}, 'country': {'id': 'ZH', 'value': 'Africa Eastern and Southern'}, 'countryiso3code': 'AFE', 'date': '2007', 'value': 482406426, 'unit': '', 'obs_status': '', 'decimal': 0}, {'indicator': {'id': 'SP.POP.TOTL', 'value': 'Population, total'}, 'country': {'id': 'ZH', 'value': 'Africa Eastern and Southern'}, 'countryiso3code': 'AFE', 'date': '2006', 'value': 469508516, 'unit': '', 'obs_status': '', 'decimal': 0}, {'indicator': {'id': 'SP.POP.TOTL', 'value': 'Population, total'}, 'country': {'id': 'ZH', 'value': 'Africa Eastern and Southern'}, 'countryiso3code': 'AFE', 'date': '2005', 'value': 457153837, 'unit': '', 'obs_status': '', 'decimal': 0}, {'indicator': {'id': 'SP.POP.TOTL', 'value': 'Population, total'}, 'country': {'id': 'ZH', 'value': 'Africa Eastern and Southern'}, 'countryiso3code': 'AFE', 'date': '2004', 'value': 445281555, 'unit': '', 'obs_status': '', 'decimal': 0}, {'indicator': {'id': 'SP.POP.TOTL', 'value': 'Population, total'}, 'country': {'id': 'ZH', 'value': 'Africa Eastern and Southern'}, 'countryiso3code': 'AFE', 'date': '2003', 'value': 433807484, 'unit': '', 'obs_status': '', 'decimal': 0}, {'indicator': {'id': 'SP.POP.TOTL', 'value': 'Population, total'}, 'country': {'id': 'ZH', 'value': 'Africa Eastern and Southern'}, 'countryiso3code': 'AFE', 'date': '2002', 'value': 422741118, 'unit': '', 'obs_status': '', 'decimal': 0}, {'indicator': {'id': 'SP.POP.TOTL', 'value': 'Population, total'}, 'country': {'id': 'ZH', 'value': 'Africa Eastern and Southern'}, 'countryiso3code': 'AFE', 'date': '2001', 'value': 412001885, 'unit': '', 'obs_status': '', 'decimal': 0}, {'indicator': {'id': 'SP.POP.TOTL', 'value': 'Population, total'}, 'country': {'id': 'ZH', 'value': 'Africa Eastern and Southern'}, 'countryiso3code': 'AFE', 'date': '2000', 'value': 401600588, 'unit': '', 'obs_status': '', 'decimal': 0}, {'indicator': {'id': 'SP.POP.TOTL', 'value': 'Population, total'}, 'country': {'id': 'ZH', 'value': 'Africa Eastern and Southern'}, 'countryiso3code': 'AFE', 'date': '1999', 'value': 391486231, 'unit': '', 'obs_status': '', 'decimal': 0}, {'indicator': {'id': 'SP.POP.TOTL', 'value': 'Population, total'}, 'country': {'id': 'ZH', 'value': 'Africa Eastern and Southern'}, 'countryiso3code': 'AFE', 'date': '1998', 'value': 381715600, 'unit': '', 'obs_status': '', 'decimal': 0}, {'indicator': {'id': 'SP.POP.TOTL', 'value': 'Population, total'}, 'country': {'id': 'ZH', 'value': 'Africa Eastern and Southern'}, 'countryiso3code': 'AFE', 'date': '1997', 'value': 372352230, 'unit': '', 'obs_status': '', 'decimal': 0}, {'indicator': {'id': 'SP.POP.TOTL', 'value': 'Population, total'}, 'country': {'id': 'ZH', 'value': 'Africa Eastern and Southern'}, 'countryiso3code': 'AFE', 'date': '1996', 'value': 362985802, 'unit': '', 'obs_status': '', 'decimal': 0}, {'indicator': {'id': 'SP.POP.TOTL', 'value': 'Population, total'}, 'country': {'id': 'ZH', 'value': 'Africa Eastern and Southern'}, 'countryiso3code': 'AFE', 'date': '1995', 'value': 353466601, 'unit': '', 'obs_status': '', 'decimal': 0}, {'indicator': {'id': 'SP.POP.TOTL', 'value': 'Population, total'}, 'country': {'id': 'ZH', 'value': 'Africa Eastern and Southern'}, 'countryiso3code': 'AFE', 'date': '1994', 'value': 344418362, 'unit': '', 'obs_status': '', 'decimal': 0}, {'indicator': {'id': 'SP.POP.TOTL', 'value': 'Population, total'}, 'country': {'id': 'ZH', 'value': 'Africa Eastern and Southern'}, 'countryiso3code': 'AFE', 'date': '1993', 'value': 335625136, 'unit': '', 'obs_status': '', 'decimal': 0}, {'indicator': {'id': 'SP.POP.TOTL', 'value': 'Population, total'}, 'country': {'id': 'ZH', 'value': 'Africa Eastern and Southern'}, 'countryiso3code': 'AFE', 'date': '1992', 'value': 326933522, 'unit': '', 'obs_status': '', 'decimal': 0}, {'indicator': {'id': 'SP.POP.TOTL', 'value': 'Population, total'}, 'country': {'id': 'ZH', 'value': 'Africa Eastern and Southern'}, 'countryiso3code': 'AFE', 'date': '1991', 'value': 318544083, 'unit': '', 'obs_status': '', 'decimal': 0}, {'indicator': {'id': 'SP.POP.TOTL', 'value': 'Population, total'}, 'country': {'id': 'ZH', 'value': 'Africa Eastern and Southern'}, 'countryiso3code': 'AFE', 'date': '1990', 'value': 309890664, 'unit': '', 'obs_status': '', 'decimal': 0}, {'indicator': {'id': 'SP.POP.TOTL', 'value': 'Population, total'}, 'country': {'id': 'ZH', 'value': 'Africa Eastern and Southern'}, 'countryiso3code': 'AFE', 'date': '1989', 'value': 301124880, 'unit': '', 'obs_status': '', 'decimal': 0}, {'indicator': {'id': 'SP.POP.TOTL', 'value': 'Population, total'}, 'country': {'id': 'ZH', 'value': 'Africa Eastern and Southern'}, 'countryiso3code': 'AFE', 'date': '1988', 'value': 292795186, 'unit': '', 'obs_status': '', 'decimal': 0}, {'indicator': {'id': 'SP.POP.TOTL', 'value': 'Population, total'}, 'country': {'id': 'ZH', 'value': 'Africa Eastern and Southern'}, 'countryiso3code': 'AFE', 'date': '1987', 'value': 284490394, 'unit': '', 'obs_status': '', 'decimal': 0}, {'indicator': {'id': 'SP.POP.TOTL', 'value': 'Population, total'}, 'country': {'id': 'ZH', 'value': 'Africa Eastern and Southern'}, 'countryiso3code': 'AFE', 'date': '1986', 'value': 276035920, 'unit': '', 'obs_status': '', 'decimal': 0}, {'indicator': {'id': 'SP.POP.TOTL', 'value': 'Population, total'}, 'country': {'id': 'ZH', 'value': 'Africa Eastern and Southern'}, 'countryiso3code': 'AFE', 'date': '1985', 'value': 267938123, 'unit': '', 'obs_status': '', 'decimal': 0}, {'indicator': {'id': 'SP.POP.TOTL', 'value': 'Population, total'}, 'country': {'id': 'ZH', 'value': 'Africa Eastern and Southern'}, 'countryiso3code': 'AFE', 'date': '1984', 'value': 260209149, 'unit': '', 'obs_status': '', 'decimal': 0}, {'indicator': {'id': 'SP.POP.TOTL', 'value': 'Population, total'}, 'country': {'id': 'ZH', 'value': 'Africa Eastern and Southern'}, 'countryiso3code': 'AFE', 'date': '1983', 'value': 252779730, 'unit': '', 'obs_status': '', 'decimal': 0}, {'indicator': {'id': 'SP.POP.TOTL', 'value': 'Population, total'}, 'country': {'id': 'ZH', 'value': 'Africa Eastern and Southern'}, 'countryiso3code': 'AFE', 'date': '1982', 'value': 245386717, 'unit': '', 'obs_status': '', 'decimal': 0}, {'indicator': {'id': 'SP.POP.TOTL', 'value': 'Population, total'}, 'country': {'id': 'ZH', 'value': 'Africa Eastern and Southern'}, 'countryiso3code': 'AFE', 'date': '1981', 'value': 237937461, 'unit': '', 'obs_status': '', 'decimal': 0}, {'indicator': {'id': 'SP.POP.TOTL', 'value': 'Population, total'}, 'country': {'id': 'ZH', 'value': 'Africa Eastern and Southern'}, 'countryiso3code': 'AFE', 'date': '1980', 'value': 230967858, 'unit': '', 'obs_status': '', 'decimal': 0}, {'indicator': {'id': 'SP.POP.TOTL', 'value': 'Population, total'}, 'country': {'id': 'ZH', 'value': 'Africa Eastern and Southern'}, 'countryiso3code': 'AFE', 'date': '1979', 'value': 224315978, 'unit': '', 'obs_status': '', 'decimal': 0}, {'indicator': {'id': 'SP.POP.TOTL', 'value': 'Population, total'}, 'country': {'id': 'ZH', 'value': 'Africa Eastern and Southern'}, 'countryiso3code': 'AFE', 'date': '1978', 'value': 217481420, 'unit': '', 'obs_status': '', 'decimal': 0}, {'indicator': {'id': 'SP.POP.TOTL', 'value': 'Population, total'}, 'country': {'id': 'ZH', 'value': 'Africa Eastern and Southern'}, 'countryiso3code': 'AFE', 'date': '1977', 'value': 211120911, 'unit': '', 'obs_status': '', 'decimal': 0}, {'indicator': {'id': 'SP.POP.TOTL', 'value': 'Population, total'}, 'country': {'id': 'ZH', 'value': 'Africa Eastern and Southern'}, 'countryiso3code': 'AFE', 'date': '1976', 'value': 205202669, 'unit': '', 'obs_status': '', 'decimal': 0}, {'indicator': {'id': 'SP.POP.TOTL', 'value': 'Population, total'}, 'country': {'id': 'ZH', 'value': 'Africa Eastern and Southern'}, 'countryiso3code': 'AFE', 'date': '1975', 'value': 199284304, 'unit': '', 'obs_status': '', 'decimal': 0}, {'indicator': {'id': 'SP.POP.TOTL', 'value': 'Population, total'}, 'country': {'id': 'ZH', 'value': 'Africa Eastern and Southern'}, 'countryiso3code': 'AFE', 'date': '1974', 'value': 193512956, 'unit': '', 'obs_status': '', 'decimal': 0}, {'indicator': {'id': 'SP.POP.TOTL', 'value': 'Population, total'}, 'country': {'id': 'ZH', 'value': 'Africa Eastern and Southern'}, 'countryiso3code': 'AFE', 'date': '1973', 'value': 187901657, 'unit': '', 'obs_status': '', 'decimal': 0}]\n"
     ]
    }
   ],
   "source": [
    "data_eco = response_eco.json()\n",
    "print(data_eco[1])"
   ]
  },
  {
   "cell_type": "code",
   "execution_count": null,
   "id": "532f5105-439e-4729-84ba-eca8fda4b33f",
   "metadata": {},
   "outputs": [],
   "source": []
  }
 ],
 "metadata": {
  "kernelspec": {
   "display_name": "Python 3 (ipykernel)",
   "language": "python",
   "name": "python3"
  },
  "language_info": {
   "codemirror_mode": {
    "name": "ipython",
    "version": 3
   },
   "file_extension": ".py",
   "mimetype": "text/x-python",
   "name": "python",
   "nbconvert_exporter": "python",
   "pygments_lexer": "ipython3",
   "version": "3.11.8"
  }
 },
 "nbformat": 4,
 "nbformat_minor": 5
}
