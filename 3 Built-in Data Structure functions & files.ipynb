{
 "cells": [
  {
   "cell_type": "markdown",
   "id": "a00fdfbb-8c6f-4214-8080-9ff3499a53ae",
   "metadata": {},
   "source": [
    "# Dictionary"
   ]
  },
  {
   "cell_type": "code",
   "execution_count": 179,
   "id": "0d4513c7-91ef-40f6-b954-fa0a07011d9c",
   "metadata": {},
   "outputs": [],
   "source": [
    "# having a list of words\n",
    "words = ['apple','bat','bar','atom','bool']\n",
    "\n",
    "# empty dictionary defined\n",
    "by_letter = {}"
   ]
  },
  {
   "cell_type": "code",
   "execution_count": 180,
   "id": "e155b5dd-745c-43b4-b75b-b7198676576c",
   "metadata": {},
   "outputs": [
    {
     "name": "stdout",
     "output_type": "stream",
     "text": [
      "1 a\n",
      "2 b\n",
      "3 c\n"
     ]
    }
   ],
   "source": [
    "# testing the dictionary iterationi\n",
    "my_dict = {1:'a',2:'b',3:'c'}\n",
    "\n",
    "# so if I am using dictionary directly in for loop then it will only take the index/key from the dictionary\n",
    "for i,b in zip(my_dict,my_dict.values()):\n",
    "    print(i,b)"
   ]
  },
  {
   "cell_type": "code",
   "execution_count": 181,
   "id": "563e39a7-6871-42a3-a889-5293a5f60795",
   "metadata": {},
   "outputs": [],
   "source": [
    "# loop to assign values of dictionary\n",
    "for word in words:\n",
    "    letter = word[0] # as this is a string so we are taking first letter from the string like a from apple\n",
    "    if letter not in by_letter:\n",
    "        by_letter[letter]=[word] # creating a list/array to add more values if i have key repeating\n",
    "    else:\n",
    "        by_letter[letter].append(word) #if I have the key repeating then I am appending in the array/list\n",
    "    "
   ]
  },
  {
   "cell_type": "code",
   "execution_count": 182,
   "id": "4a4102b9-fc72-4ad9-ac80-d37fb788dfe5",
   "metadata": {},
   "outputs": [
    {
     "data": {
      "text/plain": [
       "{'a': ['apple', 'atom'], 'b': ['bat', 'bar', 'bool']}"
      ]
     },
     "execution_count": 182,
     "metadata": {},
     "output_type": "execute_result"
    }
   ],
   "source": [
    "by_letter"
   ]
  },
  {
   "cell_type": "code",
   "execution_count": 183,
   "id": "a360bd4d-f01b-4e61-9891-a8e5b9e09486",
   "metadata": {},
   "outputs": [
    {
     "data": {
      "text/plain": [
       "{'Y': ['Yogesh', 'Yogita'],\n",
       " 'S': ['Sanjay', 'Sangita', 'Sahil'],\n",
       " 'R': ['Rohit']}"
      ]
     },
     "execution_count": 183,
     "metadata": {},
     "output_type": "execute_result"
    }
   ],
   "source": [
    "texts = ['Yogesh','Yogita','Sanjay','Sangita','Sahil','Rohit']\n",
    "\n",
    "my_dictionary_name = {}\n",
    "\n",
    "for text in texts:\n",
    "    my_text = text[0]\n",
    "\n",
    "    if my_text not in my_dictionary_name:\n",
    "        my_dictionary_name[my_text] = [text]\n",
    "    else:\n",
    "        my_dictionary_name[my_text].append(text)\n",
    "\n",
    "my_dictionary_name"
   ]
  },
  {
   "cell_type": "code",
   "execution_count": 184,
   "id": "654f9db6-b62a-4698-b75c-4e01db0adb60",
   "metadata": {},
   "outputs": [
    {
     "name": "stdout",
     "output_type": "stream",
     "text": [
      "{'Y': ['Yogesh', 'Yogita'], 'S': ['Sanjay', 'Sangita', 'Sahil'], 'R': ['Rohit']}\n"
     ]
    }
   ],
   "source": [
    "# you can also use setdefault and combincation of append to simplify the code\n",
    "dict = {}\n",
    "for text in texts:\n",
    "    my_index = text[0]\n",
    "# setdefault takes 2 parameters 1st key to be searched and the default_value if not provided then none\n",
    "    dict.setdefault(my_index,[]).append(text)\n",
    "print(dict)"
   ]
  },
  {
   "cell_type": "markdown",
   "id": "97cd78f6-0ab3-4f30-a6c9-cd7dd4b60d1d",
   "metadata": {},
   "source": [
    "# Valid dictionary key types\n",
    "\n",
    "Keys should be hashable or immutable like int, float, string or tuples"
   ]
  },
  {
   "cell_type": "code",
   "execution_count": 185,
   "id": "985d917d-236d-4c01-93a7-9bb0fbda1390",
   "metadata": {},
   "outputs": [
    {
     "name": "stdout",
     "output_type": "stream",
     "text": [
      "String is hashable  -8688164669019977115\n",
      "Tuple is hashable  -2901236784998325500\n"
     ]
    }
   ],
   "source": [
    "print('String is hashable ', hash('string'))\n",
    "print('Tuple is hashable ', hash((2,4,(4,3))))"
   ]
  },
  {
   "cell_type": "code",
   "execution_count": 186,
   "id": "bfb05d7c-1e20-4cc3-905b-bfa4124d6271",
   "metadata": {},
   "outputs": [
    {
     "ename": "TypeError",
     "evalue": "unhashable type: 'list'",
     "output_type": "error",
     "traceback": [
      "\u001b[1;31m---------------------------------------------------------------------------\u001b[0m",
      "\u001b[1;31mTypeError\u001b[0m                                 Traceback (most recent call last)",
      "Cell \u001b[1;32mIn[186], line 2\u001b[0m\n\u001b[0;32m      1\u001b[0m \u001b[38;5;66;03m# but as the list is not hashable or mutable thats why cant be used as a key\u001b[39;00m\n\u001b[1;32m----> 2\u001b[0m \u001b[38;5;28;43mhash\u001b[39;49m\u001b[43m(\u001b[49m\u001b[43m(\u001b[49m\u001b[38;5;241;43m2\u001b[39;49m\u001b[43m,\u001b[49m\u001b[38;5;241;43m4\u001b[39;49m\u001b[43m,\u001b[49m\u001b[43m[\u001b[49m\u001b[38;5;241;43m3\u001b[39;49m\u001b[43m,\u001b[49m\u001b[38;5;241;43m3\u001b[39;49m\u001b[43m]\u001b[49m\u001b[43m)\u001b[49m\u001b[43m)\u001b[49m\n",
      "\u001b[1;31mTypeError\u001b[0m: unhashable type: 'list'"
     ]
    }
   ],
   "source": [
    "# but as the list is not hashable or mutable thats why cant be used as a key\n",
    "hash((2,4,[3,3]))"
   ]
  },
  {
   "cell_type": "markdown",
   "id": "851eac91-97f5-400a-aa53-f76d17abffe1",
   "metadata": {},
   "source": [
    "## Built - in Sequence Functions"
   ]
  },
  {
   "cell_type": "code",
   "execution_count": 187,
   "id": "c3aae917-8205-4fca-ba0e-314c6e80f6e8",
   "metadata": {},
   "outputs": [
    {
     "name": "stdout",
     "output_type": "stream",
     "text": [
      "0\n",
      "key  Y\n",
      "1\n",
      "key  S\n",
      "2\n",
      "key  R\n"
     ]
    }
   ],
   "source": [
    "index = 0\n",
    "for value in dict:\n",
    "    print(index)\n",
    "    print('key ',value)\n",
    "    index+=1\n",
    "    "
   ]
  },
  {
   "cell_type": "code",
   "execution_count": 188,
   "id": "e655f6bb-f9c2-4c43-95d9-52cc70db9785",
   "metadata": {},
   "outputs": [
    {
     "name": "stdout",
     "output_type": "stream",
     "text": [
      "Index: 0 , Key: Y, Value: ['Yogesh', 'Yogita']\n",
      "Index: 1 , Key: S, Value: ['Sanjay', 'Sangita', 'Sahil']\n",
      "Index: 2 , Key: R, Value: ['Rohit']\n"
     ]
    }
   ],
   "source": [
    "for index,key in enumerate(dict):\n",
    "    print(f'Index: {index} , Key: {key}, Value: {dict[key]}')"
   ]
  },
  {
   "cell_type": "code",
   "execution_count": 189,
   "id": "0a31d297-17e4-4e2f-8566-68903736b6c1",
   "metadata": {},
   "outputs": [
    {
     "name": "stdout",
     "output_type": "stream",
     "text": [
      "0\n",
      "1 a\n",
      "1\n",
      "2 b\n",
      "2\n",
      "4 d\n"
     ]
    }
   ],
   "source": [
    "seq1 = [1,2,4]\n",
    "seq2 = ['a','b','d']\n",
    "\n",
    "# lets zip two sequences\n",
    "zipped_seq = zip(seq1,seq2)\n",
    "\n",
    "\n",
    "for index,(a,b) in enumerate(zipped_seq):\n",
    "    print(index)\n",
    "    print(a, b)"
   ]
  },
  {
   "cell_type": "code",
   "execution_count": 190,
   "id": "74824560-341c-430d-8c80-2facb7e187c7",
   "metadata": {},
   "outputs": [
    {
     "name": "stdout",
     "output_type": "stream",
     "text": [
      "<zip object at 0x000001636B9387C0>\n"
     ]
    }
   ],
   "source": [
    "print((zipped_seq))"
   ]
  },
  {
   "cell_type": "markdown",
   "id": "c8ec02ed-640f-4f27-8cab-d1fbb41fc6d2",
   "metadata": {},
   "source": [
    "## Nested list comprehension"
   ]
  },
  {
   "cell_type": "code",
   "execution_count": 191,
   "id": "ef463097-334a-450a-b7cc-1e4727c98caf",
   "metadata": {},
   "outputs": [],
   "source": [
    "all_data = [[\"John\", \"Emily\", \"Michael\", \"Mary\", \"Steven\"],\n",
    "            [\"Maria\", \"Juan\", \"Javier\", \"Natalia\", \"Pilar\"]]"
   ]
  },
  {
   "cell_type": "code",
   "execution_count": 192,
   "id": "cff161a7-1e21-42cf-b538-49fe6bf7a7db",
   "metadata": {},
   "outputs": [],
   "source": [
    "names_of_interest = []\n",
    "\n",
    "for names in all_data:\n",
    "    enough_as = [name for name in names if name.count('a')>=2]\n",
    "    names_of_interest.extend(enough_as)"
   ]
  },
  {
   "cell_type": "code",
   "execution_count": 193,
   "id": "51087fc1-3ff0-475b-993e-8200cec8caff",
   "metadata": {},
   "outputs": [
    {
     "data": {
      "text/plain": [
       "[1, 2, 3, 4, 5, 6, 7, 8, 9]"
      ]
     },
     "execution_count": 193,
     "metadata": {},
     "output_type": "execute_result"
    }
   ],
   "source": [
    "some_tuples = [(1, 2, 3), (4, 5, 6), (7, 8, 9)]\n",
    "\n",
    "flattend = [tup  for tuple in some_tuples for tup in tuple]\n",
    "\n",
    "flattend\n"
   ]
  },
  {
   "cell_type": "code",
   "execution_count": 194,
   "id": "05b77453-1f08-4a7c-9665-9d5ace355b31",
   "metadata": {},
   "outputs": [
    {
     "name": "stdout",
     "output_type": "stream",
     "text": [
      "[144, 196, 256, 324, 400]\n",
      "[4, 16, 36, 64, 100, 144, 196, 256, 324, 400]\n"
     ]
    }
   ],
   "source": [
    "# append adds single value only but extends add list of values\n",
    "Numbers = [[1,2,3,4,5,6,7,8,9,10],\n",
    "          [11,12,13,14,15,16,17,18,19,20]]\n",
    "Result = []\n",
    "for listx in Numbers:\n",
    "    Squares = [Number ** 2 for Number in listx if Number % 2 == 0] # this will update in the next iteration\n",
    "    Result.extend(Squares) # as the Squares values is going to get updated thus it needs to extended which will append\n",
    "print(Squares)\n",
    "print(Result)"
   ]
  },
  {
   "cell_type": "code",
   "execution_count": 195,
   "id": "13381417-e256-4106-8727-234b50ea655e",
   "metadata": {},
   "outputs": [
    {
     "data": {
      "text/plain": [
       "[4, 16, 36, 64, 100, 144, 196, 256, 324, 400]"
      ]
     },
     "execution_count": 195,
     "metadata": {},
     "output_type": "execute_result"
    }
   ],
   "source": [
    "x = [num**2 for number in Numbers for num in number if num%2==0 ]\n",
    "x"
   ]
  },
  {
   "cell_type": "code",
   "execution_count": 196,
   "id": "dc2d9900-861a-446c-a7c5-36853884ecf2",
   "metadata": {},
   "outputs": [
    {
     "data": {
      "text/plain": [
       "['d', 'a', 'm', 'n']"
      ]
     },
     "execution_count": 196,
     "metadata": {},
     "output_type": "execute_result"
    }
   ],
   "source": [
    "#extend takes anythings which is iterable\n",
    "my_list = []\n",
    "\n",
    "my_list.extend('damn')\n",
    "\n",
    "my_list"
   ]
  },
  {
   "cell_type": "markdown",
   "id": "7c8f4bf2-bcad-4447-8419-57733406121a",
   "metadata": {},
   "source": [
    "# Generators\n",
    "Special kind of function that return a `lazy iterator` "
   ]
  },
  {
   "cell_type": "code",
   "execution_count": 197,
   "id": "0024a02b-8252-4efa-be0d-ee6e7addc34b",
   "metadata": {},
   "outputs": [],
   "source": [
    "def square_numbers(nums):\n",
    "    for i in nums:\n",
    "        yield (i*i)\n"
   ]
  },
  {
   "cell_type": "code",
   "execution_count": 198,
   "id": "14d709e5-6616-410a-886e-71258c248780",
   "metadata": {},
   "outputs": [],
   "source": [
    "mynums = square_numbers([1,2,3,4,5])"
   ]
  },
  {
   "cell_type": "code",
   "execution_count": 199,
   "id": "21baa468-9d15-4786-a075-bdd54c8a4dda",
   "metadata": {},
   "outputs": [
    {
     "data": {
      "text/plain": [
       "1"
      ]
     },
     "execution_count": 199,
     "metadata": {},
     "output_type": "execute_result"
    }
   ],
   "source": [
    "# generator will only get iterated only if you call them by next function\n",
    "next(mynums)"
   ]
  },
  {
   "cell_type": "code",
   "execution_count": 200,
   "id": "d97a0ee0-4177-401d-8a2c-72c3cb407e13",
   "metadata": {},
   "outputs": [
    {
     "data": {
      "text/plain": [
       "<generator object square_numbers at 0x0000016369D3AE90>"
      ]
     },
     "execution_count": 200,
     "metadata": {},
     "output_type": "execute_result"
    }
   ],
   "source": [
    "iter(mynums)"
   ]
  },
  {
   "cell_type": "code",
   "execution_count": 201,
   "id": "c216fd58-439b-451f-b14b-ecc18701db92",
   "metadata": {},
   "outputs": [
    {
     "name": "stdout",
     "output_type": "stream",
     "text": [
      "4\n",
      "9\n",
      "16\n",
      "25\n"
     ]
    }
   ],
   "source": [
    "for num in mynums:\n",
    "    print(num)"
   ]
  },
  {
   "cell_type": "code",
   "execution_count": 202,
   "id": "b8f49a58-a4db-4c7a-9e91-7df1181bab9c",
   "metadata": {},
   "outputs": [
    {
     "name": "stdout",
     "output_type": "stream",
     "text": [
      "<generator object <genexpr> at 0x000001636BAD4040>\n"
     ]
    }
   ],
   "source": [
    "# another way of creating the genearators is putting for loop in () brackets\n",
    "my_nums = (x*x for x in [1,2,3,4,5])\n",
    "print(my_nums)"
   ]
  },
  {
   "cell_type": "code",
   "execution_count": 203,
   "id": "64a9438d-f736-40e6-bae3-272065ea6120",
   "metadata": {},
   "outputs": [],
   "source": [
    "#creating a infinite sequence\n",
    "def infinite_sequence():\n",
    "    num = 0\n",
    "    while True:\n",
    "        yield num\n",
    "        num += 1\n",
    "abc = infinite_sequence()\n"
   ]
  },
  {
   "cell_type": "code",
   "execution_count": 204,
   "id": "ef56689e-f1b7-47e1-af8f-9328833c23d7",
   "metadata": {},
   "outputs": [
    {
     "data": {
      "text/plain": [
       "0"
      ]
     },
     "execution_count": 204,
     "metadata": {},
     "output_type": "execute_result"
    }
   ],
   "source": [
    "next(abc)"
   ]
  },
  {
   "cell_type": "markdown",
   "id": "d2ec4b7f-c896-4a7e-9038-22569c5f4ec1",
   "metadata": {},
   "source": [
    "Creating my own iterators"
   ]
  },
  {
   "cell_type": "code",
   "execution_count": 205,
   "id": "a0be343a-3a28-4611-a682-dce1994beb09",
   "metadata": {},
   "outputs": [],
   "source": [
    "class Sentence:\n",
    "\n",
    "    def __init__(self,sentence):\n",
    "        self.sentence = sentence\n",
    "        self.index = 0\n",
    "        self.words = self.sentence.split()\n",
    "\n",
    "    def __iter__(self):\n",
    "        return self\n",
    "\n",
    "    def __next__(self):\n",
    "        if self.index>=len(self.words):\n",
    "            raise StopIteration\n",
    "        index = self.index\n",
    "        self.index+=1\n",
    "        return self.words[index]"
   ]
  },
  {
   "cell_type": "code",
   "execution_count": 206,
   "id": "764b5ea3-41a9-4a78-a3d6-dd87c89a0910",
   "metadata": {},
   "outputs": [],
   "source": [
    "my_sentence = Sentence('this is a test')"
   ]
  },
  {
   "cell_type": "code",
   "execution_count": 207,
   "id": "9a16e334-5f44-47e6-b75a-b1c552c3fba0",
   "metadata": {},
   "outputs": [
    {
     "data": {
      "text/plain": [
       "'this'"
      ]
     },
     "execution_count": 207,
     "metadata": {},
     "output_type": "execute_result"
    }
   ],
   "source": [
    "next(my_sentence)"
   ]
  },
  {
   "cell_type": "code",
   "execution_count": 208,
   "id": "02480aa9-f15e-41aa-aaa0-2e679fe1948e",
   "metadata": {},
   "outputs": [],
   "source": [
    "# other way to create the iterator is using the genrator\n",
    "def sentenceGenerator(sentence) : \n",
    "    for word in sentence.split():\n",
    "        yield word"
   ]
  },
  {
   "cell_type": "code",
   "execution_count": 209,
   "id": "38f01c40-12b2-4735-9389-d41aac733a43",
   "metadata": {},
   "outputs": [],
   "source": [
    "my_sent = sentenceGenerator('This is a second test')"
   ]
  },
  {
   "cell_type": "code",
   "execution_count": 210,
   "id": "84091a9f-75e2-47b2-a5f3-83aa8ea357d2",
   "metadata": {},
   "outputs": [
    {
     "data": {
      "text/plain": [
       "('This', 'is', 'a', 'second', 'test')"
      ]
     },
     "execution_count": 210,
     "metadata": {},
     "output_type": "execute_result"
    }
   ],
   "source": [
    "next(my_sent),next(my_sent),next(my_sent),next(my_sent),next(my_sent)"
   ]
  },
  {
   "cell_type": "markdown",
   "id": "ae49b879-eb93-4fd7-8a0b-4d4142f91005",
   "metadata": {},
   "source": [
    "## Itertools\n",
    "It is a way to use the iterators in a easier way"
   ]
  },
  {
   "cell_type": "code",
   "execution_count": 2,
   "id": "ffd0135c-7d46-4c18-bb98-065109e68d0d",
   "metadata": {},
   "outputs": [],
   "source": [
    "import itertools"
   ]
  },
  {
   "cell_type": "code",
   "execution_count": 3,
   "id": "71087dc5-7a3b-4195-9129-cb6672173e60",
   "metadata": {},
   "outputs": [],
   "source": [
    "counter = itertools.count()"
   ]
  },
  {
   "cell_type": "code",
   "execution_count": 4,
   "id": "b30722f9-4cb9-4481-a6d2-7f294c58b203",
   "metadata": {},
   "outputs": [
    {
     "data": {
      "text/plain": [
       "0"
      ]
     },
     "execution_count": 4,
     "metadata": {},
     "output_type": "execute_result"
    }
   ],
   "source": [
    "next(counter)"
   ]
  },
  {
   "cell_type": "code",
   "execution_count": 9,
   "id": "f36f2e21-b03b-4aec-82e9-c8dd17d98a0e",
   "metadata": {},
   "outputs": [],
   "source": [
    "import itertools\n",
    "\n",
    "test = [100, 200, 300, 400, 500]\n",
    "daily_data = list(zip(itertools.count(), test))\n"
   ]
  },
  {
   "cell_type": "code",
   "execution_count": 10,
   "id": "3295a47a-e7e4-4cc7-88b4-86700baf2613",
   "metadata": {},
   "outputs": [
    {
     "name": "stdout",
     "output_type": "stream",
     "text": [
      "[(0, 100), (1, 200), (2, 300), (3, 400), (4, 500)]\n"
     ]
    }
   ],
   "source": [
    "print(daily_data)"
   ]
  },
  {
   "cell_type": "markdown",
   "id": "d9bc244e-7844-411a-b897-9566c67d140b",
   "metadata": {},
   "source": [
    "## Permuation & Combination"
   ]
  },
  {
   "cell_type": "code",
   "execution_count": 20,
   "id": "967ff676-aa21-45b6-8201-d73e31013651",
   "metadata": {},
   "outputs": [],
   "source": [
    "letters = [ 'a','b','c','d']\n",
    "numbers = [0,1,2,3]\n",
    "names = ['Corey','Nicole']\n",
    "\n",
    "result = itertools.combinations(letters,2)"
   ]
  },
  {
   "cell_type": "code",
   "execution_count": 21,
   "id": "50e693f5-7ba3-47d0-8015-a68cfcae24e6",
   "metadata": {},
   "outputs": [
    {
     "name": "stdout",
     "output_type": "stream",
     "text": [
      "('a', 'b')\n",
      "('a', 'c')\n",
      "('a', 'd')\n",
      "('b', 'c')\n",
      "('b', 'd')\n",
      "('c', 'd')\n"
     ]
    }
   ],
   "source": [
    "for item in result:\n",
    "    print(item)"
   ]
  },
  {
   "cell_type": "code",
   "execution_count": 18,
   "id": "c1b86f1e-568f-45fe-9a7b-9ef7302375d9",
   "metadata": {},
   "outputs": [],
   "source": [
    "result_pm = itertools.permutations(letters,2)"
   ]
  },
  {
   "cell_type": "code",
   "execution_count": 19,
   "id": "cd3dda0c-8617-48e2-8856-bc16d3447a86",
   "metadata": {},
   "outputs": [
    {
     "name": "stdout",
     "output_type": "stream",
     "text": [
      "('a', 'b')\n",
      "('a', 'c')\n",
      "('a', 'd')\n",
      "('b', 'a')\n",
      "('b', 'c')\n",
      "('b', 'd')\n",
      "('c', 'a')\n",
      "('c', 'b')\n",
      "('c', 'd')\n",
      "('d', 'a')\n",
      "('d', 'b')\n",
      "('d', 'c')\n"
     ]
    }
   ],
   "source": [
    "for x in result_pm:\n",
    "    print(x)"
   ]
  },
  {
   "cell_type": "code",
   "execution_count": 26,
   "id": "0b95cba5-290d-476d-a112-dc049c081fff",
   "metadata": {},
   "outputs": [
    {
     "name": "stdout",
     "output_type": "stream",
     "text": [
      "(0, 0)\n",
      "(0, 1)\n",
      "(0, 2)\n",
      "(0, 3)\n",
      "(1, 0)\n",
      "(1, 1)\n",
      "(1, 2)\n",
      "(1, 3)\n",
      "(2, 0)\n",
      "(2, 1)\n",
      "(2, 2)\n",
      "(2, 3)\n",
      "(3, 0)\n",
      "(3, 1)\n",
      "(3, 2)\n",
      "(3, 3)\n",
      "The history saving thread hit an unexpected error (OperationalError('database or disk is full')).History will not be written to the database.\n"
     ]
    }
   ],
   "source": [
    "result_cm = itertools.product(numbers,repeat= 2)\n",
    "\n",
    "for item in result_cm:\n",
    "    print(item)"
   ]
  },
  {
   "cell_type": "code",
   "execution_count": 27,
   "id": "5e4e5353-9801-49b6-b700-8e8173fcd0af",
   "metadata": {},
   "outputs": [],
   "source": [
    "combined = itertools.chain(letters,numbers,names)"
   ]
  },
  {
   "cell_type": "code",
   "execution_count": 28,
   "id": "d7da473b-3f2a-45b2-b148-18d228258ca7",
   "metadata": {},
   "outputs": [
    {
     "name": "stdout",
     "output_type": "stream",
     "text": [
      "a\n",
      "b\n",
      "c\n",
      "d\n",
      "0\n",
      "1\n",
      "2\n",
      "3\n",
      "Corey\n",
      "Nicole\n"
     ]
    }
   ],
   "source": [
    "for i in combined:\n",
    "    print(i)"
   ]
  },
  {
   "cell_type": "code",
   "execution_count": 38,
   "id": "8419f188-abe4-4a4b-8bf6-c52b803ef9af",
   "metadata": {},
   "outputs": [],
   "source": [
    "result = itertools.islice(range(10),1,5)"
   ]
  },
  {
   "cell_type": "code",
   "execution_count": 39,
   "id": "ce9b452b-3ccd-4dcf-aaa8-835f9d3ddf74",
   "metadata": {},
   "outputs": [
    {
     "name": "stdout",
     "output_type": "stream",
     "text": [
      "1\n",
      "2\n",
      "3\n",
      "4\n"
     ]
    }
   ],
   "source": [
    "for i in result:\n",
    "    print(i)"
   ]
  },
  {
   "cell_type": "code",
   "execution_count": 40,
   "id": "058a8d26-0fb5-4bce-a8d7-629508cb0132",
   "metadata": {},
   "outputs": [
    {
     "name": "stdout",
     "output_type": "stream",
     "text": [
      "3\n",
      "8\n",
      "10\n",
      "15\n",
      "20\n"
     ]
    }
   ],
   "source": [
    "numlist = [3,5,2,5,5]\n",
    "\n",
    "result = itertools.accumulate(numlist)\n",
    "\n",
    "for item in result:\n",
    "    print(item)"
   ]
  },
  {
   "cell_type": "code",
   "execution_count": 41,
   "id": "e42a1998-0cdc-4495-8a3d-195079a8b2f4",
   "metadata": {},
   "outputs": [],
   "source": [
    "people = [\n",
    "    {\n",
    "        'name': 'John Doe',\n",
    "        'city': 'Gotham',\n",
    "        'state': 'NY'\n",
    "    },\n",
    "    {\n",
    "        'name': 'Jane Doe',\n",
    "        'city': 'Kings Landing',\n",
    "        'state': 'NY'\n",
    "    },\n",
    "    {\n",
    "        'name': 'Corey Schafer',\n",
    "        'city': 'Boulder',\n",
    "        'state': 'CO'\n",
    "    },\n",
    "    {\n",
    "        'name': 'Al Einstein',\n",
    "        'city': 'Denver',\n",
    "        'state': 'CO'\n",
    "    },\n",
    "    {\n",
    "        'name': 'John Henry',\n",
    "        'city': 'Hinton',\n",
    "        'state': 'WV'\n",
    "    },\n",
    "    {\n",
    "        'name': 'Randy Moss',\n",
    "        'city': 'Rand',\n",
    "        'state': 'WV'\n",
    "    },\n",
    "    {\n",
    "        'name': 'Nicole K',\n",
    "        'city': 'Asheville',\n",
    "        'state': 'NC'\n",
    "    },\n",
    "    {\n",
    "        'name': 'Jim Doe',\n",
    "        'city': 'Charlotte',\n",
    "        'state': 'NC'\n",
    "    },\n",
    "    {\n",
    "        'name': 'Jane Taylor',\n",
    "        'city': 'Faketown',\n",
    "        'state': 'NC'\n",
    "    }\n",
    "]"
   ]
  },
  {
   "cell_type": "code",
   "execution_count": 42,
   "id": "4cba3f75-c9cc-48de-896c-77d25b1fe771",
   "metadata": {},
   "outputs": [],
   "source": [
    "def get_name(person):\n",
    "    return person['state']"
   ]
  },
  {
   "cell_type": "code",
   "execution_count": 44,
   "id": "ed9a50bb-8d51-4811-a0b6-c600af01d21b",
   "metadata": {},
   "outputs": [
    {
     "name": "stdout",
     "output_type": "stream",
     "text": [
      "NY\n",
      "{'name': 'John Doe', 'city': 'Gotham', 'state': 'NY'}\n",
      "{'name': 'Jane Doe', 'city': 'Kings Landing', 'state': 'NY'}\n",
      "\n",
      "CO\n",
      "{'name': 'Corey Schafer', 'city': 'Boulder', 'state': 'CO'}\n",
      "{'name': 'Al Einstein', 'city': 'Denver', 'state': 'CO'}\n",
      "\n",
      "WV\n",
      "{'name': 'John Henry', 'city': 'Hinton', 'state': 'WV'}\n",
      "{'name': 'Randy Moss', 'city': 'Rand', 'state': 'WV'}\n",
      "\n",
      "NC\n",
      "{'name': 'Nicole K', 'city': 'Asheville', 'state': 'NC'}\n",
      "{'name': 'Jim Doe', 'city': 'Charlotte', 'state': 'NC'}\n",
      "{'name': 'Jane Taylor', 'city': 'Faketown', 'state': 'NC'}\n",
      "\n"
     ]
    }
   ],
   "source": [
    "res = itertools.groupby(people,get_name)\n",
    "\n",
    "for (it,p) in res:\n",
    "    print(it)\n",
    "    for p1 in p:\n",
    "        print(p1)\n",
    "    print()"
   ]
  }
 ],
 "metadata": {
  "kernelspec": {
   "display_name": "Python 3 (ipykernel)",
   "language": "python",
   "name": "python3"
  },
  "language_info": {
   "codemirror_mode": {
    "name": "ipython",
    "version": 3
   },
   "file_extension": ".py",
   "mimetype": "text/x-python",
   "name": "python",
   "nbconvert_exporter": "python",
   "pygments_lexer": "ipython3",
   "version": "3.11.8"
  }
 },
 "nbformat": 4,
 "nbformat_minor": 5
}
